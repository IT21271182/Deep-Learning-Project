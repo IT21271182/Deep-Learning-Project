{
  "cells": [
    {
      "cell_type": "code",
      "execution_count": 1,
      "metadata": {
        "colab": {
          "base_uri": "https://localhost:8080/"
        },
        "id": "AB2rXE_yNEop",
        "outputId": "55c56c16-fcb8-4e06-9238-ccc553f051ff"
      },
      "outputs": [
        {
          "name": "stdout",
          "output_type": "stream",
          "text": [
            "Weather Data:\n",
            "   location_id      date  weather_code (wmo code)  temperature_2m_max (°C)  \\\n",
            "0            0  1/1/2010                        1                     30.1   \n",
            "1            0  1/2/2010                       51                     30.1   \n",
            "2            0  1/3/2010                       51                     29.6   \n",
            "3            0  1/4/2010                        2                     28.9   \n",
            "4            0  1/5/2010                        1                     28.1   \n",
            "\n",
            "   temperature_2m_min (°C)  temperature_2m_mean (°C)  \\\n",
            "0                     22.6                      26.0   \n",
            "1                     23.7                      26.3   \n",
            "2                     23.1                      26.0   \n",
            "3                     23.1                      25.7   \n",
            "4                     21.3                      24.6   \n",
            "\n",
            "   apparent_temperature_max (°C)  apparent_temperature_min (°C)  \\\n",
            "0                           34.5                           25.0   \n",
            "1                           33.9                           26.1   \n",
            "2                           34.5                           26.2   \n",
            "3                           31.7                           26.1   \n",
            "4                           30.0                           22.9   \n",
            "\n",
            "   apparent_temperature_mean (°C)  daylight_duration (s)  ...  \\\n",
            "0                            29.0               42220.20  ...   \n",
            "1                            29.7               42225.71  ...   \n",
            "2                            29.9               42231.68  ...   \n",
            "3                            28.4               42238.11  ...   \n",
            "4                            26.2               42244.99  ...   \n",
            "\n",
            "   precipitation_sum (mm)  rain_sum (mm)  precipitation_hours (h)  \\\n",
            "0                     0.0            0.0                        0   \n",
            "1                     0.1            0.1                        1   \n",
            "2                     0.6            0.6                        3   \n",
            "3                     0.0            0.0                        0   \n",
            "4                     0.0            0.0                        0   \n",
            "\n",
            "   wind_speed_10m_max (km/h)  wind_gusts_10m_max (km/h)  \\\n",
            "0                       12.2                       27.4   \n",
            "1                       13.0                       27.0   \n",
            "2                       12.3                       27.4   \n",
            "3                       17.0                       34.6   \n",
            "4                       18.7                       37.1   \n",
            "\n",
            "   wind_direction_10m_dominant (°)  shortwave_radiation_sum (MJ/m²)  \\\n",
            "0                               19                            20.92   \n",
            "1                               24                            17.71   \n",
            "2                               17                            17.76   \n",
            "3                              357                            16.50   \n",
            "4                              353                            23.61   \n",
            "\n",
            "   et0_fao_evapotranspiration (mm)  sunrise sunset  \n",
            "0                             4.61    06:22  18:05  \n",
            "1                             3.91    06:22  18:06  \n",
            "2                             3.66    06:22  18:06  \n",
            "3                             3.75    06:23  18:07  \n",
            "4                             5.00    06:23  18:07  \n",
            "\n",
            "[5 rows x 21 columns]\n",
            "Location Data:\n",
            "   location_id  latitude  longitude  elevation  utc_offset_seconds  \\\n",
            "0            0  6.924429   79.90725          4               19800   \n",
            "1            1  7.065026   79.96622         19               19800   \n",
            "2            2  6.572935   80.02519          5               19800   \n",
            "3            3  7.275923   80.62659        499               19800   \n",
            "4            4  7.486819   80.52632        362               19800   \n",
            "\n",
            "       timezone  timezone_abbreviation city_name  \n",
            "0  Asia/Colombo                    530   Colombo  \n",
            "1  Asia/Colombo                    530   Gampaha  \n",
            "2  Asia/Colombo                    530  Kalutara  \n",
            "3  Asia/Colombo                    530     Kandy  \n",
            "4  Asia/Colombo                    530    Matale  \n"
          ]
        }
      ],
      "source": [
        "# Import necessary libraries\n",
        "import pandas as pd\n",
        "\n",
        "# Load the weather data\n",
        "weather_data = pd.read_csv('/content/weatherData.csv')\n",
        "\n",
        "# Load the location data\n",
        "location_data = pd.read_csv('/content/locationData.csv')\n",
        "\n",
        "# Display the first few rows of weather and location data\n",
        "print(\"Weather Data:\")\n",
        "print(weather_data.head())\n",
        "\n",
        "print(\"Location Data:\")\n",
        "print(location_data.head())\n"
      ]
    },
    {
      "cell_type": "code",
      "execution_count": 2,
      "metadata": {
        "colab": {
          "base_uri": "https://localhost:8080/"
        },
        "id": "VT6UkDQxRbaq",
        "outputId": "f4639a06-1ef2-40f8-f960-501f243eeb19"
      },
      "outputs": [
        {
          "name": "stdout",
          "output_type": "stream",
          "text": [
            "\n",
            "Merged Data:\n",
            "   location_id      date  weather_code (wmo code)  temperature_2m_max (°C)  \\\n",
            "0            0  1/1/2010                        1                     30.1   \n",
            "1            0  1/2/2010                       51                     30.1   \n",
            "2            0  1/3/2010                       51                     29.6   \n",
            "3            0  1/4/2010                        2                     28.9   \n",
            "4            0  1/5/2010                        1                     28.1   \n",
            "\n",
            "   temperature_2m_min (°C)  temperature_2m_mean (°C)  \\\n",
            "0                     22.6                      26.0   \n",
            "1                     23.7                      26.3   \n",
            "2                     23.1                      26.0   \n",
            "3                     23.1                      25.7   \n",
            "4                     21.3                      24.6   \n",
            "\n",
            "   apparent_temperature_max (°C)  apparent_temperature_min (°C)  \\\n",
            "0                           34.5                           25.0   \n",
            "1                           33.9                           26.1   \n",
            "2                           34.5                           26.2   \n",
            "3                           31.7                           26.1   \n",
            "4                           30.0                           22.9   \n",
            "\n",
            "   apparent_temperature_mean (°C)  daylight_duration (s)  ...  \\\n",
            "0                            29.0               42220.20  ...   \n",
            "1                            29.7               42225.71  ...   \n",
            "2                            29.9               42231.68  ...   \n",
            "3                            28.4               42238.11  ...   \n",
            "4                            26.2               42244.99  ...   \n",
            "\n",
            "   et0_fao_evapotranspiration (mm)  sunrise  sunset  latitude  longitude  \\\n",
            "0                             4.61    06:22   18:05  6.924429   79.90725   \n",
            "1                             3.91    06:22   18:06  6.924429   79.90725   \n",
            "2                             3.66    06:22   18:06  6.924429   79.90725   \n",
            "3                             3.75    06:23   18:07  6.924429   79.90725   \n",
            "4                             5.00    06:23   18:07  6.924429   79.90725   \n",
            "\n",
            "   elevation  utc_offset_seconds      timezone  timezone_abbreviation  \\\n",
            "0          4               19800  Asia/Colombo                    530   \n",
            "1          4               19800  Asia/Colombo                    530   \n",
            "2          4               19800  Asia/Colombo                    530   \n",
            "3          4               19800  Asia/Colombo                    530   \n",
            "4          4               19800  Asia/Colombo                    530   \n",
            "\n",
            "  city_name  \n",
            "0   Colombo  \n",
            "1   Colombo  \n",
            "2   Colombo  \n",
            "3   Colombo  \n",
            "4   Colombo  \n",
            "\n",
            "[5 rows x 28 columns]\n"
          ]
        }
      ],
      "source": [
        "# Merge the dataframes on 'location_id'\n",
        "merged_data = pd.merge(weather_data, location_data, on='location_id')\n",
        "\n",
        "# Display the merged dataframe\n",
        "print(\"\\nMerged Data:\")\n",
        "print(merged_data.head())\n"
      ]
    },
    {
      "cell_type": "code",
      "execution_count": 3,
      "metadata": {
        "colab": {
          "base_uri": "https://localhost:8080/"
        },
        "id": "mvTBwHr9SE7x",
        "outputId": "0becaccd-d002-4acd-dcfb-eafe099323dd"
      },
      "outputs": [
        {
          "name": "stdout",
          "output_type": "stream",
          "text": [
            "\n",
            "Merged Data after dropping unnecessary columns:\n",
            "   location_id      date  temperature_2m_max (°C)  temperature_2m_min (°C)  \\\n",
            "0            0  1/1/2010                     30.1                     22.6   \n",
            "1            0  1/2/2010                     30.1                     23.7   \n",
            "2            0  1/3/2010                     29.6                     23.1   \n",
            "3            0  1/4/2010                     28.9                     23.1   \n",
            "4            0  1/5/2010                     28.1                     21.3   \n",
            "\n",
            "   temperature_2m_mean (°C)  apparent_temperature_max (°C)  \\\n",
            "0                      26.0                           34.5   \n",
            "1                      26.3                           33.9   \n",
            "2                      26.0                           34.5   \n",
            "3                      25.7                           31.7   \n",
            "4                      24.6                           30.0   \n",
            "\n",
            "   apparent_temperature_min (°C)  apparent_temperature_mean (°C)  \\\n",
            "0                           25.0                            29.0   \n",
            "1                           26.1                            29.7   \n",
            "2                           26.2                            29.9   \n",
            "3                           26.1                            28.4   \n",
            "4                           22.9                            26.2   \n",
            "\n",
            "   precipitation_sum (mm)  rain_sum (mm)  precipitation_hours (h)  \\\n",
            "0                     0.0            0.0                        0   \n",
            "1                     0.1            0.1                        1   \n",
            "2                     0.6            0.6                        3   \n",
            "3                     0.0            0.0                        0   \n",
            "4                     0.0            0.0                        0   \n",
            "\n",
            "   wind_speed_10m_max (km/h)  wind_gusts_10m_max (km/h)  \\\n",
            "0                       12.2                       27.4   \n",
            "1                       13.0                       27.0   \n",
            "2                       12.3                       27.4   \n",
            "3                       17.0                       34.6   \n",
            "4                       18.7                       37.1   \n",
            "\n",
            "   wind_direction_10m_dominant (°)  shortwave_radiation_sum (MJ/m²)  \\\n",
            "0                               19                            20.92   \n",
            "1                               24                            17.71   \n",
            "2                               17                            17.76   \n",
            "3                              357                            16.50   \n",
            "4                              353                            23.61   \n",
            "\n",
            "   et0_fao_evapotranspiration (mm) city_name  \n",
            "0                             4.61   Colombo  \n",
            "1                             3.91   Colombo  \n",
            "2                             3.66   Colombo  \n",
            "3                             3.75   Colombo  \n",
            "4                             5.00   Colombo  \n"
          ]
        }
      ],
      "source": [
        "# Define columns to drop\n",
        "columns_to_drop = [\n",
        "    'weather_code (wmo code)', 'daylight_duration (s)', 'sunshine_duration (s)',\n",
        "    'latitude', 'longitude', 'elevation', 'utc_offset_seconds',\n",
        "    'timezone', 'timezone_abbreviation', 'sunrise', 'sunset'\n",
        "]\n",
        "\n",
        "# Drop unnecessary columns\n",
        "merged_data = merged_data.drop(columns=columns_to_drop)\n",
        "\n",
        "# Display the updated merged data\n",
        "print(\"\\nMerged Data after dropping unnecessary columns:\")\n",
        "print(merged_data.head())\n"
      ]
    },
    {
      "cell_type": "code",
      "execution_count": 4,
      "metadata": {
        "colab": {
          "base_uri": "https://localhost:8080/"
        },
        "id": "QzbC4-qJXGv6",
        "outputId": "90ca406d-ec50-4052-cc02-c1b8c7a7050b"
      },
      "outputs": [
        {
          "name": "stdout",
          "output_type": "stream",
          "text": [
            "\n",
            "Missing values in each column before handling:\n",
            "location_id                        0\n",
            "date                               0\n",
            "temperature_2m_max (°C)            0\n",
            "temperature_2m_min (°C)            0\n",
            "temperature_2m_mean (°C)           0\n",
            "apparent_temperature_max (°C)      0\n",
            "apparent_temperature_min (°C)      0\n",
            "apparent_temperature_mean (°C)     0\n",
            "precipitation_sum (mm)             0\n",
            "rain_sum (mm)                      0\n",
            "precipitation_hours (h)            0\n",
            "wind_speed_10m_max (km/h)          0\n",
            "wind_gusts_10m_max (km/h)          0\n",
            "wind_direction_10m_dominant (°)    0\n",
            "shortwave_radiation_sum (MJ/m²)    0\n",
            "et0_fao_evapotranspiration (mm)    0\n",
            "city_name                          0\n",
            "dtype: int64\n",
            "\n",
            "Missing values after handling:\n",
            "location_id                        0\n",
            "date                               0\n",
            "temperature_2m_max (°C)            0\n",
            "temperature_2m_min (°C)            0\n",
            "temperature_2m_mean (°C)           0\n",
            "apparent_temperature_max (°C)      0\n",
            "apparent_temperature_min (°C)      0\n",
            "apparent_temperature_mean (°C)     0\n",
            "precipitation_sum (mm)             0\n",
            "rain_sum (mm)                      0\n",
            "precipitation_hours (h)            0\n",
            "wind_speed_10m_max (km/h)          0\n",
            "wind_gusts_10m_max (km/h)          0\n",
            "wind_direction_10m_dominant (°)    0\n",
            "shortwave_radiation_sum (MJ/m²)    0\n",
            "et0_fao_evapotranspiration (mm)    0\n",
            "city_name                          0\n",
            "dtype: int64\n"
          ]
        },
        {
          "name": "stderr",
          "output_type": "stream",
          "text": [
            "<ipython-input-4-0403b78aa286>:6: FutureWarning: DataFrame.fillna with 'method' is deprecated and will raise in a future version. Use obj.ffill() or obj.bfill() instead.\n",
            "  merged_data.fillna(method='ffill', inplace=True)\n"
          ]
        }
      ],
      "source": [
        "# Check for missing values\n",
        "print(\"\\nMissing values in each column before handling:\")\n",
        "print(merged_data.isnull().sum())\n",
        "\n",
        "# Fill missing values (forward fill)\n",
        "merged_data.fillna(method='ffill', inplace=True)\n",
        "\n",
        "# Check again for missing values\n",
        "print(\"\\nMissing values after handling:\")\n",
        "print(merged_data.isnull().sum())\n"
      ]
    },
    {
      "cell_type": "code",
      "execution_count": 5,
      "metadata": {
        "colab": {
          "base_uri": "https://localhost:8080/"
        },
        "id": "ueZJK2BEXNya",
        "outputId": "6a779132-4c1f-441f-9790-2b388cac40be"
      },
      "outputs": [
        {
          "name": "stdout",
          "output_type": "stream",
          "text": [
            "\n",
            "Merged Data after One-Hot Encoding:\n",
            "   location_id      date  temperature_2m_max (°C)  temperature_2m_min (°C)  \\\n",
            "0            0  1/1/2010                     30.1                     22.6   \n",
            "1            0  1/2/2010                     30.1                     23.7   \n",
            "2            0  1/3/2010                     29.6                     23.1   \n",
            "3            0  1/4/2010                     28.9                     23.1   \n",
            "4            0  1/5/2010                     28.1                     21.3   \n",
            "\n",
            "   temperature_2m_mean (°C)  apparent_temperature_max (°C)  \\\n",
            "0                      26.0                           34.5   \n",
            "1                      26.3                           33.9   \n",
            "2                      26.0                           34.5   \n",
            "3                      25.7                           31.7   \n",
            "4                      24.6                           30.0   \n",
            "\n",
            "   apparent_temperature_min (°C)  apparent_temperature_mean (°C)  \\\n",
            "0                           25.0                            29.0   \n",
            "1                           26.1                            29.7   \n",
            "2                           26.2                            29.9   \n",
            "3                           26.1                            28.4   \n",
            "4                           22.9                            26.2   \n",
            "\n",
            "   precipitation_sum (mm)  rain_sum (mm)  ...  city_name_Matara  \\\n",
            "0                     0.0            0.0  ...             False   \n",
            "1                     0.1            0.1  ...             False   \n",
            "2                     0.6            0.6  ...             False   \n",
            "3                     0.0            0.0  ...             False   \n",
            "4                     0.0            0.0  ...             False   \n",
            "\n",
            "   city_name_Moneragala  city_name_Mullaitivu  city_name_Nuwara Eliya  \\\n",
            "0                 False                 False                   False   \n",
            "1                 False                 False                   False   \n",
            "2                 False                 False                   False   \n",
            "3                 False                 False                   False   \n",
            "4                 False                 False                   False   \n",
            "\n",
            "   city_name_Polonnaruwa  city_name_Puttalam  city_name_Ratnapura  \\\n",
            "0                  False               False                False   \n",
            "1                  False               False                False   \n",
            "2                  False               False                False   \n",
            "3                  False               False                False   \n",
            "4                  False               False                False   \n",
            "\n",
            "   city_name_Trincomalee  city_name_Vavuniya  city_name_Welimada  \n",
            "0                  False               False               False  \n",
            "1                  False               False               False  \n",
            "2                  False               False               False  \n",
            "3                  False               False               False  \n",
            "4                  False               False               False  \n",
            "\n",
            "[5 rows x 42 columns]\n"
          ]
        }
      ],
      "source": [
        "# Perform one-hot encoding on 'city_name'\n",
        "merged_data = pd.get_dummies(merged_data, columns=['city_name'], drop_first=True)\n",
        "\n",
        "# Display the updated merged data\n",
        "print(\"\\nMerged Data after One-Hot Encoding:\")\n",
        "print(merged_data.head())\n"
      ]
    },
    {
      "cell_type": "code",
      "execution_count": null,
      "metadata": {
        "id": "N6BPiev_EfuB"
      },
      "outputs": [],
      "source": [
        "import matplotlib.pyplot as plt\n",
        "\n",
        "# List all the one-hot encoded city columns\n",
        "city_columns = [col for col in merged_data.columns if 'city_name_' in col]\n",
        "\n",
        "# Set the number of rows and columns for subplots\n",
        "n_cols = 3\n",
        "n_rows = (len(city_columns) // n_cols) + (len(city_columns) % n_cols > 0)\n",
        "\n",
        "# Create subplots\n",
        "fig, axs = plt.subplots(n_rows, n_cols, figsize=(15, n_rows * 4))\n",
        "fig.subplots_adjust(hspace=0.4, wspace=0.4)\n",
        "axs = axs.flatten()\n",
        "\n",
        "# Plot each city\n",
        "for i, city in enumerate(city_columns):\n",
        "    city_data = merged_data[merged_data[city] == 1]\n",
        "    axs[i].plot(city_data['date'], city_data['temperature_2m_mean (°C)'], label=city, marker='o')\n",
        "    axs[i].set_title(f\"Temperature Trend: {city.split('_')[-1]}\")\n",
        "    axs[i].set_xlabel('Date')\n",
        "    axs[i].set_ylabel('Mean Temperature (°C)')\n",
        "    axs[i].tick_params(axis='x', rotation=45)\n",
        "\n",
        "# Remove unused subplots\n",
        "for j in range(i + 1, len(axs)):\n",
        "    fig.delaxes(axs[j])\n",
        "\n",
        "plt.tight_layout()\n",
        "plt.show()\n"
      ]
    },
    {
      "cell_type": "code",
      "execution_count": null,
      "metadata": {
        "id": "GAIa_TN8EgqI"
      },
      "outputs": [],
      "source": [
        "import seaborn as sns\n",
        "\n",
        "# Remove one-hot encoded city columns before correlation\n",
        "weather_features = merged_data.drop(columns=city_columns)\n",
        "\n",
        "# Compute the correlation matrix\n",
        "correlation_matrix = weather_features.corr()\n",
        "\n",
        "# Plot the heatmap\n",
        "plt.figure(figsize=(12, 8))\n",
        "sns.heatmap(correlation_matrix, annot=True, fmt=\".2f\", cmap='coolwarm')\n",
        "plt.title('Correlation Matrix')\n",
        "plt.show()\n"
      ]
    },
    {
      "cell_type": "code",
      "execution_count": null,
      "metadata": {
        "id": "hbUgG2kEEkUe"
      },
      "outputs": [],
      "source": [
        "from sklearn.preprocessing import MinMaxScaler\n",
        "\n",
        "# Define the features and target\n",
        "features = [\n",
        "    'temperature_2m_min (°C)', 'temperature_2m_max (°C)',\n",
        "    'apparent_temperature_min (°C)', 'apparent_temperature_max (°C)',\n",
        "    'precipitation_sum (mm)', 'rain_sum (mm)'\n",
        "]\n",
        "city_columns = [col for col in merged_data.columns if 'city_name_' in col]\n",
        "features.extend(city_columns)\n",
        "\n",
        "# Target variable\n",
        "target = 'temperature_2m_mean (°C)'\n"
      ]
    },
    {
      "cell_type": "code",
      "execution_count": null,
      "metadata": {
        "id": "YAvQeziOEmR2"
      },
      "outputs": [],
      "source": [
        "# Scale the features and target\n",
        "scaler = MinMaxScaler()\n",
        "scaled_features = scaler.fit_transform(merged_data[features])\n",
        "scaled_target = scaler.fit_transform(merged_data[[target]])\n",
        "\n",
        "# Display the scaled data\n",
        "print(scaled_features[:5])\n",
        "print(scaled_target[:5])\n"
      ]
    },
    {
      "cell_type": "code",
      "execution_count": null,
      "metadata": {
        "id": "tAT0Lqq8EopE"
      },
      "outputs": [],
      "source": [
        "train_size = int(len(scaled_features) * 0.8)\n",
        "\n",
        "# Split data into training and testing sets\n",
        "X_train, X_test = scaled_features[:train_size], scaled_features[train_size:]\n",
        "y_train, y_test = scaled_target[:train_size], scaled_target[train_size:]\n",
        "\n",
        "# Check the shapes\n",
        "print(f\"X_train shape: {X_train.shape}\")\n",
        "print(f\"y_train shape: {y_train.shape}\")\n",
        "print(f\"X_test shape: {X_test.shape}\")\n",
        "print(f\"y_test shape: {y_test.shape}\")\n"
      ]
    },
    {
      "cell_type": "code",
      "execution_count": null,
      "metadata": {
        "id": "cMKC6aacEqsW"
      },
      "outputs": [],
      "source": [
        "# Reshape the data to be compatible with Conv1D\n",
        "X_train = X_train.reshape(X_train.shape[0], X_train.shape[1], 1)\n",
        "X_test = X_test.reshape(X_test.shape[0], X_test.shape[1], 1)\n",
        "\n",
        "print(f\"Reshaped X_train: {X_train.shape}\")\n",
        "print(f\"Reshaped X_test: {X_test.shape}\")\n"
      ]
    },
    {
      "cell_type": "code",
      "execution_count": null,
      "metadata": {
        "id": "3plnhXtIEtdl"
      },
      "outputs": [],
      "source": [
        "from tensorflow.keras.models import Sequential\n",
        "from tensorflow.keras.layers import Conv1D, MaxPooling1D, SimpleRNN, Dense, Dropout\n",
        "\n",
        "# Define the RCNN model\n",
        "model = Sequential()\n",
        "\n",
        "# Convolutional Layer\n",
        "model.add(Conv1D(filters=64, kernel_size=3, activation='relu', input_shape=(X_train.shape[1], 1)))\n",
        "model.add(MaxPooling1D(pool_size=2))\n",
        "\n",
        "# Recurrent Layer\n",
        "model.add(SimpleRNN(50, return_sequences=False))\n",
        "model.add(Dropout(0.2))\n",
        "\n",
        "# Fully connected layers\n",
        "model.add(Dense(25, activation='relu'))\n",
        "model.add(Dense(1))\n"
      ]
    },
    {
      "cell_type": "code",
      "execution_count": null,
      "metadata": {
        "id": "U-AaSDkHEvsH"
      },
      "outputs": [],
      "source": [
        "# Compile the model\n",
        "model.compile(optimizer='adam', loss='mean_squared_error')\n",
        "\n",
        "print(model.summary())\n"
      ]
    },
    {
      "cell_type": "code",
      "execution_count": null,
      "metadata": {
        "id": "xJit7XZlExS-"
      },
      "outputs": [],
      "source": [
        "# Train the model\n",
        "history = model.fit(X_train, y_train, epochs=50, batch_size=32, validation_data=(X_test, y_test), verbose=1)\n"
      ]
    },
    {
      "cell_type": "code",
      "execution_count": null,
      "metadata": {
        "id": "Hhjv8VKhEx-u"
      },
      "outputs": [],
      "source": [
        "import matplotlib.pyplot as plt\n",
        "\n",
        "# Plot the training loss and validation loss\n",
        "plt.plot(history.history['loss'], label='Training Loss')\n",
        "plt.plot(history.history['val_loss'], label='Validation Loss')\n",
        "plt.title('Model Loss')\n",
        "plt.xlabel('Epochs')\n",
        "plt.ylabel('Loss')\n",
        "plt.legend()\n",
        "plt.show()\n"
      ]
    },
    {
      "cell_type": "code",
      "execution_count": null,
      "metadata": {
        "id": "TAHTx2C-Ez-X"
      },
      "outputs": [],
      "source": [
        "# Make predictions\n",
        "predicted_temperatures = model.predict(X_test)\n",
        "\n",
        "# Inverse scaling of predictions\n",
        "predicted_temperatures = scaler.inverse_transform(predicted_temperatures)\n",
        "\n",
        "# Inverse scaling of y_test\n",
        "y_test_original = scaler.inverse_transform(y_test)\n"
      ]
    },
    {
      "cell_type": "code",
      "execution_count": null,
      "metadata": {
        "id": "BlG2bCfZE2Ez"
      },
      "outputs": [],
      "source": [
        "from sklearn.metrics import mean_squared_error, r2_score\n",
        "\n",
        "# Calculate metrics\n",
        "mse = mean_squared_error(y_test_original, predicted_temperatures)\n",
        "rmse = mse ** 0.5\n",
        "r_squared = r2_score(y_test_original, predicted_temperatures)\n",
        "\n",
        "print(f'MSE: {mse:.4f}, RMSE: {rmse:.4f}, R²: {r_squared:.4f}')\n"
      ]
    },
    {
      "cell_type": "code",
      "execution_count": null,
      "metadata": {
        "id": "YrKNzbfME4Nt"
      },
      "outputs": [],
      "source": [
        "# Plot actual vs predicted temperatures\n",
        "plt.figure(figsize=(12, 6))\n",
        "plt.plot(y_test_original, label='Actual', color='blue', alpha=0.7)\n",
        "plt.plot(predicted_temperatures, label='Predicted', color='red', alpha=0.7)\n",
        "plt.title('Actual vs Predicted Temperatures')\n",
        "plt.xlabel('Samples')\n",
        "plt.ylabel('Temperature (°C)')\n",
        "plt.legend()\n",
        "plt.show()\n"
      ]
    },
    {
      "cell_type": "code",
      "execution_count": null,
      "metadata": {
        "id": "eAUYODiiITQT"
      },
      "outputs": [],
      "source": [
        "# Select a specific city for visualization\n",
        "selected_city = 'city_name_San Francisco'  # Change to the desired city\n",
        "\n",
        "# Filter data for the selected city\n",
        "city_test_indices = merged_data[merged_data[selected_city] == 1].index[train_size:]\n",
        "\n",
        "# Get actual and predicted temperatures for the selected city\n",
        "actual_temperatures_city = y_test_original[city_test_indices]\n",
        "predicted_temperatures_city = predicted_temperatures[city_test_indices]\n",
        "\n",
        "# Plot actual vs predicted temperatures for the selected city\n",
        "plt.figure(figsize=(12, 6))\n",
        "plt.plot(actual_temperatures_city, label='Actual', color='blue', alpha=0.7)\n",
        "plt.plot(predicted_temperatures_city, label='Predicted', color='red', alpha=0.7)\n",
        "plt.title(f'Actual vs Predicted Temperatures in {selected_city.split(\"_\")[-1]}')\n",
        "plt.xlabel('Samples')\n",
        "plt.ylabel('Temperature (°C)')\n",
        "plt.legend()\n",
        "plt.show()\n"
      ]
    },
    {
      "cell_type": "code",
      "execution_count": null,
      "metadata": {
        "id": "IXH4NRqHIZhA"
      },
      "outputs": [],
      "source": [
        "from tensorflow.keras.models import load_model\n",
        "\n",
        "# Save the model\n",
        "model.save('rcnn_weather_model.h5')\n",
        "\n",
        "# Load the model\n",
        "# loaded_model = load_model('rcnn_weather_model.h5')\n"
      ]
    },
    {
      "cell_type": "code",
      "execution_count": null,
      "metadata": {
        "id": "UdP6I2QQIdDp"
      },
      "outputs": [],
      "source": [
        "from sklearn.metrics import mean_absolute_error\n",
        "\n",
        "# Calculate Mean Absolute Error\n",
        "mae = mean_absolute_error(y_test_original, predicted_temperatures)\n",
        "print(f'Mean Absolute Error (MAE): {mae:.4f}')\n"
      ]
    }
  ],
  "metadata": {
    "colab": {
      "provenance": []
    },
    "kernelspec": {
      "display_name": "Python 3",
      "name": "python3"
    },
    "language_info": {
      "name": "python"
    }
  },
  "nbformat": 4,
  "nbformat_minor": 0
}
