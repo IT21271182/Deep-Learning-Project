{
  "nbformat": 4,
  "nbformat_minor": 0,
  "metadata": {
    "colab": {
      "provenance": []
    },
    "kernelspec": {
      "name": "python3",
      "display_name": "Python 3"
    },
    "language_info": {
      "name": "python"
    }
  },
  "cells": [
    {
      "cell_type": "markdown",
      "source": [
        "#**Loading and Exploring the Dataset**\n",
        "\n"
      ],
      "metadata": {
        "id": "xAqcZP1t01uH"
      }
    },
    {
      "cell_type": "code",
      "execution_count": 6,
      "metadata": {
        "id": "f2EvJ8vR002Z"
      },
      "outputs": [],
      "source": [
        "import pandas as pd"
      ]
    },
    {
      "cell_type": "code",
      "source": [
        "from google.colab import drive\n",
        "drive.mount('/content/drive')"
      ],
      "metadata": {
        "colab": {
          "base_uri": "https://localhost:8080/"
        },
        "id": "b4yrwCV91LoC",
        "outputId": "bcca368a-3569-46a1-b8f4-7f8552ac7e76"
      },
      "execution_count": 1,
      "outputs": [
        {
          "output_type": "stream",
          "name": "stdout",
          "text": [
            "Mounted at /content/drive\n"
          ]
        }
      ]
    },
    {
      "cell_type": "code",
      "source": [
        "# Load the datasets\n",
        "location_data = pd.read_csv('/content/drive/MyDrive/locationData.csv')\n",
        "weather_data = pd.read_csv('/content/drive/MyDrive/weatherData.csv')\n",
        "\n",
        "# Display the first few rows of each dataset\n",
        "print(location_data.head())\n",
        "print(weather_data.head())"
      ],
      "metadata": {
        "colab": {
          "base_uri": "https://localhost:8080/"
        },
        "id": "YFgFbvej1BHO",
        "outputId": "0df77537-4e4c-4d1b-c5d2-a192c3ee9079"
      },
      "execution_count": 7,
      "outputs": [
        {
          "output_type": "stream",
          "name": "stdout",
          "text": [
            "   location_id  latitude  longitude  elevation  utc_offset_seconds  \\\n",
            "0            0  6.924429   79.90725          4               19800   \n",
            "1            1  7.065026   79.96622         19               19800   \n",
            "2            2  6.572935   80.02519          5               19800   \n",
            "3            3  7.275923   80.62659        499               19800   \n",
            "4            4  7.486819   80.52632        362               19800   \n",
            "\n",
            "       timezone  timezone_abbreviation city_name  \n",
            "0  Asia/Colombo                    530   Colombo  \n",
            "1  Asia/Colombo                    530   Gampaha  \n",
            "2  Asia/Colombo                    530  Kalutara  \n",
            "3  Asia/Colombo                    530     Kandy  \n",
            "4  Asia/Colombo                    530    Matale  \n",
            "   location_id      date  weather_code (wmo code)  temperature_2m_max (°C)  \\\n",
            "0            0  1/1/2010                        1                     30.1   \n",
            "1            0  1/2/2010                       51                     30.1   \n",
            "2            0  1/3/2010                       51                     29.6   \n",
            "3            0  1/4/2010                        2                     28.9   \n",
            "4            0  1/5/2010                        1                     28.1   \n",
            "\n",
            "   temperature_2m_min (°C)  temperature_2m_mean (°C)  \\\n",
            "0                     22.6                      26.0   \n",
            "1                     23.7                      26.3   \n",
            "2                     23.1                      26.0   \n",
            "3                     23.1                      25.7   \n",
            "4                     21.3                      24.6   \n",
            "\n",
            "   apparent_temperature_max (°C)  apparent_temperature_min (°C)  \\\n",
            "0                           34.5                           25.0   \n",
            "1                           33.9                           26.1   \n",
            "2                           34.5                           26.2   \n",
            "3                           31.7                           26.1   \n",
            "4                           30.0                           22.9   \n",
            "\n",
            "   apparent_temperature_mean (°C)  daylight_duration (s)  ...  \\\n",
            "0                            29.0               42220.20  ...   \n",
            "1                            29.7               42225.71  ...   \n",
            "2                            29.9               42231.68  ...   \n",
            "3                            28.4               42238.11  ...   \n",
            "4                            26.2               42244.99  ...   \n",
            "\n",
            "   precipitation_sum (mm)  rain_sum (mm)  precipitation_hours (h)  \\\n",
            "0                     0.0            0.0                        0   \n",
            "1                     0.1            0.1                        1   \n",
            "2                     0.6            0.6                        3   \n",
            "3                     0.0            0.0                        0   \n",
            "4                     0.0            0.0                        0   \n",
            "\n",
            "   wind_speed_10m_max (km/h)  wind_gusts_10m_max (km/h)  \\\n",
            "0                       12.2                       27.4   \n",
            "1                       13.0                       27.0   \n",
            "2                       12.3                       27.4   \n",
            "3                       17.0                       34.6   \n",
            "4                       18.7                       37.1   \n",
            "\n",
            "   wind_direction_10m_dominant (°)  shortwave_radiation_sum (MJ/m²)  \\\n",
            "0                               19                            20.92   \n",
            "1                               24                            17.71   \n",
            "2                               17                            17.76   \n",
            "3                              357                            16.50   \n",
            "4                              353                            23.61   \n",
            "\n",
            "   et0_fao_evapotranspiration (mm)  sunrise sunset  \n",
            "0                             4.61    06:22  18:05  \n",
            "1                             3.91    06:22  18:06  \n",
            "2                             3.66    06:22  18:06  \n",
            "3                             3.75    06:23  18:07  \n",
            "4                             5.00    06:23  18:07  \n",
            "\n",
            "[5 rows x 21 columns]\n"
          ]
        }
      ]
    },
    {
      "cell_type": "markdown",
      "source": [
        "#**Data Preprocessing**"
      ],
      "metadata": {
        "id": "Vers2qRT2WvB"
      }
    },
    {
      "cell_type": "code",
      "source": [
        "from sklearn.preprocessing import MinMaxScaler\n",
        "import numpy as np"
      ],
      "metadata": {
        "id": "ZEeAVSCV2TD-"
      },
      "execution_count": 8,
      "outputs": []
    },
    {
      "cell_type": "code",
      "source": [
        "# Handling missing values (example: forward fill)\n",
        "weather_data.fillna(method='ffill', inplace=True)"
      ],
      "metadata": {
        "colab": {
          "base_uri": "https://localhost:8080/"
        },
        "id": "QoTCtq-D2cg_",
        "outputId": "66fa7be7-3f55-4357-80fd-5d8c087c889f"
      },
      "execution_count": 9,
      "outputs": [
        {
          "output_type": "stream",
          "name": "stderr",
          "text": [
            "<ipython-input-9-0873df7560d0>:2: FutureWarning: DataFrame.fillna with 'method' is deprecated and will raise in a future version. Use obj.ffill() or obj.bfill() instead.\n",
            "  weather_data.fillna(method='ffill', inplace=True)\n"
          ]
        }
      ]
    },
    {
      "cell_type": "code",
      "source": [
        "# Feature selection (assuming temperature and time are columns)\n",
        "features = weather_data[['temperature_2m_mean (°C)',\n",
        "                         'daylight_duration (s)',\n",
        "                         'precipitation_sum (mm)',\n",
        "                         'wind_speed_10m_max (km/h)',\n",
        "                         'sunshine_duration (s)',\n",
        "                         'apparent_temperature_mean (°C)']]"
      ],
      "metadata": {
        "id": "L_7q6o8d2p-q"
      },
      "execution_count": 17,
      "outputs": []
    },
    {
      "cell_type": "code",
      "source": [
        "# Scaling\n",
        "scaler = MinMaxScaler(feature_range=(0, 1))\n",
        "scaled_data = scaler.fit_transform(features)\n",
        "\n",
        "\n",
        "# Reshaping for CNN (timesteps, features)\n",
        "timesteps = 30  # Example: 30 time steps for past data\n",
        "X, y = [], []\n",
        "\n",
        "for i in range(timesteps, len(scaled_data)):\n",
        "    X.append(scaled_data[i-timesteps:i])\n",
        "    y.append(scaled_data[i, 0])  # Assuming temperature is the target\n",
        "\n",
        "X, y = np.array(X), np.array(y)\n",
        "X = np.reshape(X, (X.shape[0], X.shape[1], X.shape[2]))"
      ],
      "metadata": {
        "id": "S7H4fbit45-y"
      },
      "execution_count": 19,
      "outputs": []
    },
    {
      "cell_type": "markdown",
      "source": [
        "#**Model Architecture**"
      ],
      "metadata": {
        "id": "EEwvIi6j5N7m"
      }
    },
    {
      "cell_type": "code",
      "source": [
        "from tensorflow.keras.models import Sequential\n",
        "from tensorflow.keras.layers import Conv1D, Dense, Flatten, Dropout"
      ],
      "metadata": {
        "id": "Ib6dwQWj5Py6"
      },
      "execution_count": 20,
      "outputs": []
    },
    {
      "cell_type": "code",
      "source": [
        "# Define the CNN model\n",
        "model = Sequential()\n",
        "\n",
        "# Adding convolutional layers\n",
        "model.add(Conv1D(filters=64, kernel_size=3, activation='relu', input_shape=(X.shape[1], X.shape[2])))\n",
        "model.add(Conv1D(filters=64, kernel_size=3, activation='relu'))\n",
        "model.add(Flatten())\n",
        "\n",
        "# Adding dense layers\n",
        "model.add(Dense(50, activation='relu'))\n",
        "model.add(Dropout(0.2))\n",
        "model.add(Dense(1))  # Output layer for temperature prediction\n",
        "\n",
        "# Compile the model\n",
        "model.compile(optimizer='adam', loss='mean_squared_error')"
      ],
      "metadata": {
        "colab": {
          "base_uri": "https://localhost:8080/"
        },
        "id": "t0IzkLYh5Xw-",
        "outputId": "5ab5712f-7aaa-4c77-a852-ad3a1e2c1d1c"
      },
      "execution_count": 21,
      "outputs": [
        {
          "output_type": "stream",
          "name": "stderr",
          "text": [
            "/usr/local/lib/python3.10/dist-packages/keras/src/layers/convolutional/base_conv.py:107: UserWarning: Do not pass an `input_shape`/`input_dim` argument to a layer. When using Sequential models, prefer using an `Input(shape)` object as the first layer in the model instead.\n",
            "  super().__init__(activity_regularizer=activity_regularizer, **kwargs)\n"
          ]
        }
      ]
    },
    {
      "cell_type": "markdown",
      "source": [
        "#**Training the Model**"
      ],
      "metadata": {
        "id": "aaFM0aFq5eEN"
      }
    },
    {
      "cell_type": "code",
      "source": [
        "from sklearn.model_selection import train_test_split"
      ],
      "metadata": {
        "id": "DzaqR1f65cgA"
      },
      "execution_count": 22,
      "outputs": []
    },
    {
      "cell_type": "code",
      "source": [
        "# Splitting data into training and testing sets\n",
        "X_train, X_test, y_train, y_test = train_test_split(X, y, test_size=0.2, random_state=42)\n",
        "\n",
        "# Train the model\n",
        "history = model.fit(X_train, y_train, epochs=50, batch_size=32, validation_data=(X_test, y_test))"
      ],
      "metadata": {
        "colab": {
          "base_uri": "https://localhost:8080/"
        },
        "id": "c6ilYWhn5sSU",
        "outputId": "e1e57709-8ce7-4891-c6ce-4ba2de9361aa"
      },
      "execution_count": 23,
      "outputs": [
        {
          "output_type": "stream",
          "name": "stdout",
          "text": [
            "Epoch 1/50\n",
            "\u001b[1m3559/3559\u001b[0m \u001b[32m━━━━━━━━━━━━━━━━━━━━\u001b[0m\u001b[37m\u001b[0m \u001b[1m25s\u001b[0m 7ms/step - loss: 0.0092 - val_loss: 0.0010\n",
            "Epoch 2/50\n",
            "\u001b[1m3559/3559\u001b[0m \u001b[32m━━━━━━━━━━━━━━━━━━━━\u001b[0m\u001b[37m\u001b[0m \u001b[1m43s\u001b[0m 7ms/step - loss: 0.0014 - val_loss: 7.6211e-04\n",
            "Epoch 3/50\n",
            "\u001b[1m3559/3559\u001b[0m \u001b[32m━━━━━━━━━━━━━━━━━━━━\u001b[0m\u001b[37m\u001b[0m \u001b[1m40s\u001b[0m 7ms/step - loss: 0.0012 - val_loss: 7.8266e-04\n",
            "Epoch 4/50\n",
            "\u001b[1m3559/3559\u001b[0m \u001b[32m━━━━━━━━━━━━━━━━━━━━\u001b[0m\u001b[37m\u001b[0m \u001b[1m39s\u001b[0m 6ms/step - loss: 0.0011 - val_loss: 6.3471e-04\n",
            "Epoch 5/50\n",
            "\u001b[1m3559/3559\u001b[0m \u001b[32m━━━━━━━━━━━━━━━━━━━━\u001b[0m\u001b[37m\u001b[0m \u001b[1m43s\u001b[0m 7ms/step - loss: 0.0011 - val_loss: 6.3475e-04\n",
            "Epoch 6/50\n",
            "\u001b[1m3559/3559\u001b[0m \u001b[32m━━━━━━━━━━━━━━━━━━━━\u001b[0m\u001b[37m\u001b[0m \u001b[1m39s\u001b[0m 6ms/step - loss: 0.0011 - val_loss: 6.5038e-04\n",
            "Epoch 7/50\n",
            "\u001b[1m3559/3559\u001b[0m \u001b[32m━━━━━━━━━━━━━━━━━━━━\u001b[0m\u001b[37m\u001b[0m \u001b[1m41s\u001b[0m 6ms/step - loss: 0.0011 - val_loss: 5.9294e-04\n",
            "Epoch 8/50\n",
            "\u001b[1m3559/3559\u001b[0m \u001b[32m━━━━━━━━━━━━━━━━━━━━\u001b[0m\u001b[37m\u001b[0m \u001b[1m25s\u001b[0m 7ms/step - loss: 0.0011 - val_loss: 6.2919e-04\n",
            "Epoch 9/50\n",
            "\u001b[1m3559/3559\u001b[0m \u001b[32m━━━━━━━━━━━━━━━━━━━━\u001b[0m\u001b[37m\u001b[0m \u001b[1m41s\u001b[0m 7ms/step - loss: 0.0011 - val_loss: 6.0693e-04\n",
            "Epoch 10/50\n",
            "\u001b[1m3559/3559\u001b[0m \u001b[32m━━━━━━━━━━━━━━━━━━━━\u001b[0m\u001b[37m\u001b[0m \u001b[1m23s\u001b[0m 6ms/step - loss: 0.0011 - val_loss: 7.9178e-04\n",
            "Epoch 11/50\n",
            "\u001b[1m3559/3559\u001b[0m \u001b[32m━━━━━━━━━━━━━━━━━━━━\u001b[0m\u001b[37m\u001b[0m \u001b[1m41s\u001b[0m 7ms/step - loss: 0.0011 - val_loss: 6.4918e-04\n",
            "Epoch 12/50\n",
            "\u001b[1m3559/3559\u001b[0m \u001b[32m━━━━━━━━━━━━━━━━━━━━\u001b[0m\u001b[37m\u001b[0m \u001b[1m25s\u001b[0m 7ms/step - loss: 0.0010 - val_loss: 7.5869e-04\n",
            "Epoch 13/50\n",
            "\u001b[1m3559/3559\u001b[0m \u001b[32m━━━━━━━━━━━━━━━━━━━━\u001b[0m\u001b[37m\u001b[0m \u001b[1m25s\u001b[0m 7ms/step - loss: 0.0011 - val_loss: 5.9259e-04\n",
            "Epoch 14/50\n",
            "\u001b[1m3559/3559\u001b[0m \u001b[32m━━━━━━━━━━━━━━━━━━━━\u001b[0m\u001b[37m\u001b[0m \u001b[1m24s\u001b[0m 7ms/step - loss: 0.0010 - val_loss: 7.3096e-04\n",
            "Epoch 15/50\n",
            "\u001b[1m3559/3559\u001b[0m \u001b[32m━━━━━━━━━━━━━━━━━━━━\u001b[0m\u001b[37m\u001b[0m \u001b[1m40s\u001b[0m 6ms/step - loss: 0.0011 - val_loss: 5.6228e-04\n",
            "Epoch 16/50\n",
            "\u001b[1m3559/3559\u001b[0m \u001b[32m━━━━━━━━━━━━━━━━━━━━\u001b[0m\u001b[37m\u001b[0m \u001b[1m25s\u001b[0m 7ms/step - loss: 0.0011 - val_loss: 6.8589e-04\n",
            "Epoch 17/50\n",
            "\u001b[1m3559/3559\u001b[0m \u001b[32m━━━━━━━━━━━━━━━━━━━━\u001b[0m\u001b[37m\u001b[0m \u001b[1m40s\u001b[0m 7ms/step - loss: 0.0010 - val_loss: 6.0609e-04\n",
            "Epoch 18/50\n",
            "\u001b[1m3559/3559\u001b[0m \u001b[32m━━━━━━━━━━━━━━━━━━━━\u001b[0m\u001b[37m\u001b[0m \u001b[1m23s\u001b[0m 7ms/step - loss: 0.0010 - val_loss: 8.3930e-04\n",
            "Epoch 19/50\n",
            "\u001b[1m3559/3559\u001b[0m \u001b[32m━━━━━━━━━━━━━━━━━━━━\u001b[0m\u001b[37m\u001b[0m \u001b[1m25s\u001b[0m 7ms/step - loss: 0.0011 - val_loss: 6.5507e-04\n",
            "Epoch 20/50\n",
            "\u001b[1m3559/3559\u001b[0m \u001b[32m━━━━━━━━━━━━━━━━━━━━\u001b[0m\u001b[37m\u001b[0m \u001b[1m26s\u001b[0m 7ms/step - loss: 0.0010 - val_loss: 6.0552e-04\n",
            "Epoch 21/50\n",
            "\u001b[1m3559/3559\u001b[0m \u001b[32m━━━━━━━━━━━━━━━━━━━━\u001b[0m\u001b[37m\u001b[0m \u001b[1m38s\u001b[0m 6ms/step - loss: 0.0010 - val_loss: 5.7386e-04\n",
            "Epoch 22/50\n",
            "\u001b[1m3559/3559\u001b[0m \u001b[32m━━━━━━━━━━━━━━━━━━━━\u001b[0m\u001b[37m\u001b[0m \u001b[1m40s\u001b[0m 6ms/step - loss: 0.0010 - val_loss: 6.9381e-04\n",
            "Epoch 23/50\n",
            "\u001b[1m3559/3559\u001b[0m \u001b[32m━━━━━━━━━━━━━━━━━━━━\u001b[0m\u001b[37m\u001b[0m \u001b[1m24s\u001b[0m 7ms/step - loss: 0.0010 - val_loss: 5.6793e-04\n",
            "Epoch 24/50\n",
            "\u001b[1m3559/3559\u001b[0m \u001b[32m━━━━━━━━━━━━━━━━━━━━\u001b[0m\u001b[37m\u001b[0m \u001b[1m42s\u001b[0m 7ms/step - loss: 0.0010 - val_loss: 5.9159e-04\n",
            "Epoch 25/50\n",
            "\u001b[1m3559/3559\u001b[0m \u001b[32m━━━━━━━━━━━━━━━━━━━━\u001b[0m\u001b[37m\u001b[0m \u001b[1m40s\u001b[0m 7ms/step - loss: 0.0010 - val_loss: 5.6566e-04\n",
            "Epoch 26/50\n",
            "\u001b[1m3559/3559\u001b[0m \u001b[32m━━━━━━━━━━━━━━━━━━━━\u001b[0m\u001b[37m\u001b[0m \u001b[1m39s\u001b[0m 6ms/step - loss: 0.0010 - val_loss: 5.8147e-04\n",
            "Epoch 27/50\n",
            "\u001b[1m3559/3559\u001b[0m \u001b[32m━━━━━━━━━━━━━━━━━━━━\u001b[0m\u001b[37m\u001b[0m \u001b[1m41s\u001b[0m 6ms/step - loss: 0.0010 - val_loss: 5.8541e-04\n",
            "Epoch 28/50\n",
            "\u001b[1m3559/3559\u001b[0m \u001b[32m━━━━━━━━━━━━━━━━━━━━\u001b[0m\u001b[37m\u001b[0m \u001b[1m41s\u001b[0m 6ms/step - loss: 0.0010 - val_loss: 6.1625e-04\n",
            "Epoch 29/50\n",
            "\u001b[1m3559/3559\u001b[0m \u001b[32m━━━━━━━━━━━━━━━━━━━━\u001b[0m\u001b[37m\u001b[0m \u001b[1m24s\u001b[0m 7ms/step - loss: 0.0010 - val_loss: 6.0775e-04\n",
            "Epoch 30/50\n",
            "\u001b[1m3559/3559\u001b[0m \u001b[32m━━━━━━━━━━━━━━━━━━━━\u001b[0m\u001b[37m\u001b[0m \u001b[1m22s\u001b[0m 6ms/step - loss: 0.0010 - val_loss: 6.3917e-04\n",
            "Epoch 31/50\n",
            "\u001b[1m3559/3559\u001b[0m \u001b[32m━━━━━━━━━━━━━━━━━━━━\u001b[0m\u001b[37m\u001b[0m \u001b[1m23s\u001b[0m 6ms/step - loss: 0.0010 - val_loss: 7.1070e-04\n",
            "Epoch 32/50\n",
            "\u001b[1m3559/3559\u001b[0m \u001b[32m━━━━━━━━━━━━━━━━━━━━\u001b[0m\u001b[37m\u001b[0m \u001b[1m25s\u001b[0m 7ms/step - loss: 0.0010 - val_loss: 6.4712e-04\n",
            "Epoch 33/50\n",
            "\u001b[1m3559/3559\u001b[0m \u001b[32m━━━━━━━━━━━━━━━━━━━━\u001b[0m\u001b[37m\u001b[0m \u001b[1m22s\u001b[0m 6ms/step - loss: 0.0010 - val_loss: 6.3800e-04\n",
            "Epoch 34/50\n",
            "\u001b[1m3559/3559\u001b[0m \u001b[32m━━━━━━━━━━━━━━━━━━━━\u001b[0m\u001b[37m\u001b[0m \u001b[1m24s\u001b[0m 7ms/step - loss: 0.0010 - val_loss: 6.4961e-04\n",
            "Epoch 35/50\n",
            "\u001b[1m3559/3559\u001b[0m \u001b[32m━━━━━━━━━━━━━━━━━━━━\u001b[0m\u001b[37m\u001b[0m \u001b[1m22s\u001b[0m 6ms/step - loss: 0.0010 - val_loss: 8.2025e-04\n",
            "Epoch 36/50\n",
            "\u001b[1m3559/3559\u001b[0m \u001b[32m━━━━━━━━━━━━━━━━━━━━\u001b[0m\u001b[37m\u001b[0m \u001b[1m40s\u001b[0m 6ms/step - loss: 0.0010 - val_loss: 5.7386e-04\n",
            "Epoch 37/50\n",
            "\u001b[1m3559/3559\u001b[0m \u001b[32m━━━━━━━━━━━━━━━━━━━━\u001b[0m\u001b[37m\u001b[0m \u001b[1m42s\u001b[0m 6ms/step - loss: 0.0010 - val_loss: 6.9131e-04\n",
            "Epoch 38/50\n",
            "\u001b[1m3559/3559\u001b[0m \u001b[32m━━━━━━━━━━━━━━━━━━━━\u001b[0m\u001b[37m\u001b[0m \u001b[1m41s\u001b[0m 6ms/step - loss: 0.0010 - val_loss: 5.9606e-04\n",
            "Epoch 39/50\n",
            "\u001b[1m3559/3559\u001b[0m \u001b[32m━━━━━━━━━━━━━━━━━━━━\u001b[0m\u001b[37m\u001b[0m \u001b[1m24s\u001b[0m 7ms/step - loss: 0.0010 - val_loss: 5.9155e-04\n",
            "Epoch 40/50\n",
            "\u001b[1m3559/3559\u001b[0m \u001b[32m━━━━━━━━━━━━━━━━━━━━\u001b[0m\u001b[37m\u001b[0m \u001b[1m21s\u001b[0m 6ms/step - loss: 0.0010 - val_loss: 6.4392e-04\n",
            "Epoch 41/50\n",
            "\u001b[1m3559/3559\u001b[0m \u001b[32m━━━━━━━━━━━━━━━━━━━━\u001b[0m\u001b[37m\u001b[0m \u001b[1m40s\u001b[0m 6ms/step - loss: 0.0010 - val_loss: 5.6621e-04\n",
            "Epoch 42/50\n",
            "\u001b[1m3559/3559\u001b[0m \u001b[32m━━━━━━━━━━━━━━━━━━━━\u001b[0m\u001b[37m\u001b[0m \u001b[1m41s\u001b[0m 6ms/step - loss: 0.0010 - val_loss: 6.5820e-04\n",
            "Epoch 43/50\n",
            "\u001b[1m3559/3559\u001b[0m \u001b[32m━━━━━━━━━━━━━━━━━━━━\u001b[0m\u001b[37m\u001b[0m \u001b[1m24s\u001b[0m 7ms/step - loss: 0.0010 - val_loss: 5.7166e-04\n",
            "Epoch 44/50\n",
            "\u001b[1m3559/3559\u001b[0m \u001b[32m━━━━━━━━━━━━━━━━━━━━\u001b[0m\u001b[37m\u001b[0m \u001b[1m22s\u001b[0m 6ms/step - loss: 0.0010 - val_loss: 6.1113e-04\n",
            "Epoch 45/50\n",
            "\u001b[1m3559/3559\u001b[0m \u001b[32m━━━━━━━━━━━━━━━━━━━━\u001b[0m\u001b[37m\u001b[0m \u001b[1m40s\u001b[0m 6ms/step - loss: 0.0010 - val_loss: 6.3685e-04\n",
            "Epoch 46/50\n",
            "\u001b[1m3559/3559\u001b[0m \u001b[32m━━━━━━━━━━━━━━━━━━━━\u001b[0m\u001b[37m\u001b[0m \u001b[1m23s\u001b[0m 6ms/step - loss: 0.0010 - val_loss: 6.0300e-04\n",
            "Epoch 47/50\n",
            "\u001b[1m3559/3559\u001b[0m \u001b[32m━━━━━━━━━━━━━━━━━━━━\u001b[0m\u001b[37m\u001b[0m \u001b[1m40s\u001b[0m 6ms/step - loss: 0.0010 - val_loss: 5.7360e-04\n",
            "Epoch 48/50\n",
            "\u001b[1m3559/3559\u001b[0m \u001b[32m━━━━━━━━━━━━━━━━━━━━\u001b[0m\u001b[37m\u001b[0m \u001b[1m41s\u001b[0m 6ms/step - loss: 0.0010 - val_loss: 6.1627e-04\n",
            "Epoch 49/50\n",
            "\u001b[1m3559/3559\u001b[0m \u001b[32m━━━━━━━━━━━━━━━━━━━━\u001b[0m\u001b[37m\u001b[0m \u001b[1m23s\u001b[0m 6ms/step - loss: 0.0010 - val_loss: 6.3387e-04\n",
            "Epoch 50/50\n",
            "\u001b[1m3559/3559\u001b[0m \u001b[32m━━━━━━━━━━━━━━━━━━━━\u001b[0m\u001b[37m\u001b[0m \u001b[1m22s\u001b[0m 6ms/step - loss: 0.0010 - val_loss: 5.8317e-04\n"
          ]
        }
      ]
    },
    {
      "cell_type": "markdown",
      "source": [
        "#**Model Evaluation**"
      ],
      "metadata": {
        "id": "_y7u7uKq52E2"
      }
    },
    {
      "cell_type": "code",
      "source": [
        "# Evaluate the model\n",
        "loss = model.evaluate(X_test, y_test)\n",
        "print(f\"Test Loss (MSE): {loss}\")"
      ],
      "metadata": {
        "colab": {
          "base_uri": "https://localhost:8080/"
        },
        "id": "kwgxzdR36DiX",
        "outputId": "1698de5f-0708-4349-e9c7-7bd165311693"
      },
      "execution_count": 24,
      "outputs": [
        {
          "output_type": "stream",
          "name": "stdout",
          "text": [
            "\u001b[1m890/890\u001b[0m \u001b[32m━━━━━━━━━━━━━━━━━━━━\u001b[0m\u001b[37m\u001b[0m \u001b[1m2s\u001b[0m 2ms/step - loss: 5.7116e-04\n",
            "Test Loss (MSE): 0.0005831700400449336\n"
          ]
        }
      ]
    },
    {
      "cell_type": "code",
      "source": [
        "from sklearn.metrics import r2_score\n",
        "\n",
        "r2 = r2_score(y_test, predictions)\n",
        "print(f\"R² Score: {r2}\")"
      ],
      "metadata": {
        "colab": {
          "base_uri": "https://localhost:8080/"
        },
        "id": "XNdCFKqTAoRM",
        "outputId": "f2c25a1f-0710-44da-adcb-7478222bd8d8"
      },
      "execution_count": 26,
      "outputs": [
        {
          "output_type": "stream",
          "name": "stdout",
          "text": [
            "R² Score: 0.9722155564800796\n"
          ]
        }
      ]
    },
    {
      "cell_type": "markdown",
      "source": [
        "#**Making Predictions**"
      ],
      "metadata": {
        "id": "YCjcuDcT6LZK"
      }
    },
    {
      "cell_type": "code",
      "source": [
        "# Create a dummy array for inverse transformation\n",
        "dummy_pred = np.zeros((predictions.shape[0], scaled_data.shape[1]))  # Same number of features as original\n",
        "dummy_pred[:, 0] = predictions[:, 0]  # Place predictions in the first column (assuming temperature is in the first column)\n",
        "\n",
        "# Inverse transform only the temperature column\n",
        "predictions = scaler.inverse_transform(dummy_pred)[:, 0]\n",
        "\n",
        "# Do the same for y_test to bring it back to the original scale\n",
        "dummy_test = np.zeros((y_test.shape[0], scaled_data.shape[1]))\n",
        "dummy_test[:, 0] = y_test\n",
        "y_test = scaler.inverse_transform(dummy_test)[:, 0]\n",
        "\n",
        "# Display some predictions vs actual values\n",
        "for i in range(10):\n",
        "    print(f\"Predicted: {predictions[i]}, Actual: {y_test[i]}\")"
      ],
      "metadata": {
        "colab": {
          "base_uri": "https://localhost:8080/"
        },
        "id": "4SH50mSL6Vul",
        "outputId": "e6be2b41-6435-4e94-b49b-45a8d38b060a"
      },
      "execution_count": 28,
      "outputs": [
        {
          "output_type": "stream",
          "name": "stdout",
          "text": [
            "Predicted: 23.85965518951416, Actual: 24.5\n",
            "Predicted: 26.482213723659516, Actual: 26.4\n",
            "Predicted: 27.32733942270279, Actual: 26.6\n",
            "Predicted: 28.20578052997589, Actual: 27.9\n",
            "Predicted: 26.409613072872162, Actual: 25.7\n",
            "Predicted: 23.54417117834091, Actual: 22.599999999999998\n",
            "Predicted: 16.263122045993804, Actual: 15.8\n",
            "Predicted: 26.628377664089204, Actual: 26.6\n",
            "Predicted: 27.223203754425047, Actual: 26.6\n",
            "Predicted: 29.437022638320922, Actual: 29.5\n"
          ]
        }
      ]
    }
  ]
}